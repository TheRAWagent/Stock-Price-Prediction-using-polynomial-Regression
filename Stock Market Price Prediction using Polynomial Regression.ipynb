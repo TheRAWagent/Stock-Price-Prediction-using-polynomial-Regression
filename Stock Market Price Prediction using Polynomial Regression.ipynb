{
 "cells": [
  {
   "cell_type": "code",
   "execution_count": 1,
   "id": "b342e633",
   "metadata": {},
   "outputs": [],
   "source": [
    "#import packages\n",
    "import numpy as np\n",
    "import pandas as pd\n",
    "import matplotlib.pyplot as plt\n",
    "\n",
    "from sklearn.linear_model import LinearRegression\n",
    "from sklearn.preprocessing import PolynomialFeatures\n",
    "\n",
    "#plot the graph inside the notebook window\n",
    "%matplotlib qt"
   ]
  },
  {
   "cell_type": "code",
   "execution_count": 2,
   "id": "81bb8613",
   "metadata": {},
   "outputs": [],
   "source": [
    "#function to calculate compound annual growth rate\n",
    "def CAGR(first, last, periods):\n",
    "    return ((last/first)**(1/periods)-1) * 100"
   ]
  },
  {
   "cell_type": "code",
   "execution_count": 3,
   "id": "aebaf9db",
   "metadata": {},
   "outputs": [
    {
     "data": {
      "text/html": [
       "<div>\n",
       "<style scoped>\n",
       "    .dataframe tbody tr th:only-of-type {\n",
       "        vertical-align: middle;\n",
       "    }\n",
       "\n",
       "    .dataframe tbody tr th {\n",
       "        vertical-align: top;\n",
       "    }\n",
       "\n",
       "    .dataframe thead th {\n",
       "        text-align: right;\n",
       "    }\n",
       "</style>\n",
       "<table border=\"1\" class=\"dataframe\">\n",
       "  <thead>\n",
       "    <tr style=\"text-align: right;\">\n",
       "      <th></th>\n",
       "      <th>Date</th>\n",
       "      <th>Open</th>\n",
       "      <th>High</th>\n",
       "      <th>Low</th>\n",
       "      <th>Close</th>\n",
       "    </tr>\n",
       "  </thead>\n",
       "  <tbody>\n",
       "    <tr>\n",
       "      <th>0</th>\n",
       "      <td>2-January-1991</td>\n",
       "      <td>1027.38</td>\n",
       "      <td>1027.38</td>\n",
       "      <td>999.26</td>\n",
       "      <td>999.26</td>\n",
       "    </tr>\n",
       "    <tr>\n",
       "      <th>1</th>\n",
       "      <td>3-January-1991</td>\n",
       "      <td>983.51</td>\n",
       "      <td>989.08</td>\n",
       "      <td>981.08</td>\n",
       "      <td>982.35</td>\n",
       "    </tr>\n",
       "    <tr>\n",
       "      <th>2</th>\n",
       "      <td>7-January-1991</td>\n",
       "      <td>982.81</td>\n",
       "      <td>1010.77</td>\n",
       "      <td>978.69</td>\n",
       "      <td>1010.77</td>\n",
       "    </tr>\n",
       "    <tr>\n",
       "      <th>3</th>\n",
       "      <td>9-January-1991</td>\n",
       "      <td>1007.66</td>\n",
       "      <td>1013.80</td>\n",
       "      <td>998.09</td>\n",
       "      <td>1008.52</td>\n",
       "    </tr>\n",
       "    <tr>\n",
       "      <th>4</th>\n",
       "      <td>11-January-1991</td>\n",
       "      <td>1000.51</td>\n",
       "      <td>1034.30</td>\n",
       "      <td>997.04</td>\n",
       "      <td>1034.30</td>\n",
       "    </tr>\n",
       "  </tbody>\n",
       "</table>\n",
       "</div>"
      ],
      "text/plain": [
       "              Date     Open     High     Low    Close\n",
       "0   2-January-1991  1027.38  1027.38  999.26   999.26\n",
       "1   3-January-1991   983.51   989.08  981.08   982.35\n",
       "2   7-January-1991   982.81  1010.77  978.69  1010.77\n",
       "3   9-January-1991  1007.66  1013.80  998.09  1008.52\n",
       "4  11-January-1991  1000.51  1034.30  997.04  1034.30"
      ]
     },
     "execution_count": 3,
     "metadata": {},
     "output_type": "execute_result"
    }
   ],
   "source": [
    "#Reading data from the dataset\n",
    "data = pd.read_csv('Dataset/BSE_SENSEX_DATA.csv')\n",
    "data.head()"
   ]
  },
  {
   "cell_type": "code",
   "execution_count": 4,
   "id": "e6c720a0",
   "metadata": {},
   "outputs": [
    {
     "data": {
      "text/html": [
       "<div>\n",
       "<style scoped>\n",
       "    .dataframe tbody tr th:only-of-type {\n",
       "        vertical-align: middle;\n",
       "    }\n",
       "\n",
       "    .dataframe tbody tr th {\n",
       "        vertical-align: top;\n",
       "    }\n",
       "\n",
       "    .dataframe thead th {\n",
       "        text-align: right;\n",
       "    }\n",
       "</style>\n",
       "<table border=\"1\" class=\"dataframe\">\n",
       "  <thead>\n",
       "    <tr style=\"text-align: right;\">\n",
       "      <th></th>\n",
       "      <th>Date</th>\n",
       "      <th>Open</th>\n",
       "      <th>High</th>\n",
       "      <th>Low</th>\n",
       "      <th>Close</th>\n",
       "    </tr>\n",
       "    <tr>\n",
       "      <th>Date</th>\n",
       "      <th></th>\n",
       "      <th></th>\n",
       "      <th></th>\n",
       "      <th></th>\n",
       "      <th></th>\n",
       "    </tr>\n",
       "  </thead>\n",
       "  <tbody>\n",
       "    <tr>\n",
       "      <th>1991-01-02</th>\n",
       "      <td>1991-01-02</td>\n",
       "      <td>1027.38</td>\n",
       "      <td>1027.38</td>\n",
       "      <td>999.26</td>\n",
       "      <td>999.26</td>\n",
       "    </tr>\n",
       "    <tr>\n",
       "      <th>1991-01-03</th>\n",
       "      <td>1991-01-03</td>\n",
       "      <td>983.51</td>\n",
       "      <td>989.08</td>\n",
       "      <td>981.08</td>\n",
       "      <td>982.35</td>\n",
       "    </tr>\n",
       "    <tr>\n",
       "      <th>1991-01-07</th>\n",
       "      <td>1991-01-07</td>\n",
       "      <td>982.81</td>\n",
       "      <td>1010.77</td>\n",
       "      <td>978.69</td>\n",
       "      <td>1010.77</td>\n",
       "    </tr>\n",
       "    <tr>\n",
       "      <th>1991-01-09</th>\n",
       "      <td>1991-01-09</td>\n",
       "      <td>1007.66</td>\n",
       "      <td>1013.80</td>\n",
       "      <td>998.09</td>\n",
       "      <td>1008.52</td>\n",
       "    </tr>\n",
       "    <tr>\n",
       "      <th>1991-01-11</th>\n",
       "      <td>1991-01-11</td>\n",
       "      <td>1000.51</td>\n",
       "      <td>1034.30</td>\n",
       "      <td>997.04</td>\n",
       "      <td>1034.30</td>\n",
       "    </tr>\n",
       "  </tbody>\n",
       "</table>\n",
       "</div>"
      ],
      "text/plain": [
       "                 Date     Open     High     Low    Close\n",
       "Date                                                    \n",
       "1991-01-02 1991-01-02  1027.38  1027.38  999.26   999.26\n",
       "1991-01-03 1991-01-03   983.51   989.08  981.08   982.35\n",
       "1991-01-07 1991-01-07   982.81  1010.77  978.69  1010.77\n",
       "1991-01-09 1991-01-09  1007.66  1013.80  998.09  1008.52\n",
       "1991-01-11 1991-01-11  1000.51  1034.30  997.04  1034.30"
      ]
     },
     "execution_count": 4,
     "metadata": {},
     "output_type": "execute_result"
    }
   ],
   "source": [
    "#Setting index as date\n",
    "data['Date'] = pd.to_datetime(data.Date)\n",
    "data.index = data['Date']\n",
    "data.head()"
   ]
  },
  {
   "cell_type": "code",
   "execution_count": 5,
   "id": "5ea846f3",
   "metadata": {},
   "outputs": [],
   "source": [
    "#Converting dates into number of days as dates cannot be passed directly \n",
    "#to any regression model\n",
    "data.index = (data.index - pd.to_datetime('1970-01-01')).days"
   ]
  },
  {
   "cell_type": "code",
   "execution_count": 6,
   "id": "90b77596",
   "metadata": {},
   "outputs": [],
   "source": [
    "#Convert the pandas series into numpy array, we need to further \n",
    "#massage it before sending it to regression model\n",
    "y = np.asarray(data['Close'])\n",
    "x = np.asarray(data.index.values)"
   ]
  },
  {
   "cell_type": "code",
   "execution_count": 7,
   "id": "7bb5d959",
   "metadata": {},
   "outputs": [],
   "source": [
    "#Model initialization\n",
    "#by default the degree of the equation is 1.\n",
    "#Hence the mathematical model equation is y = mx + c, \n",
    "#which is an equation of a line.\n",
    "regression_model = LinearRegression()"
   ]
  },
  {
   "cell_type": "code",
   "execution_count": 8,
   "id": "a6d39f9a",
   "metadata": {},
   "outputs": [],
   "source": [
    "#Choose the order of your polynomial. Here the degree is set to 5.\n",
    "#hence the mathematical model equation is \n",
    "#y = c0 + c1.x**1 + c2.x**2+....+ c5.x**5\n",
    "poly = PolynomialFeatures(5)"
   ]
  },
  {
   "cell_type": "code",
   "execution_count": 9,
   "id": "59d6ee36",
   "metadata": {},
   "outputs": [],
   "source": [
    "#Convert dimension x in the higher degree polynomial expression\n",
    "X_transform = poly.fit_transform(x.reshape(-1, 1))"
   ]
  },
  {
   "cell_type": "code",
   "execution_count": 10,
   "id": "2f573e70",
   "metadata": {},
   "outputs": [
    {
     "data": {
      "text/plain": [
       "LinearRegression()"
      ]
     },
     "execution_count": 10,
     "metadata": {},
     "output_type": "execute_result"
    }
   ],
   "source": [
    "#Fit the data(train the model)\n",
    "regression_model.fit(X_transform, y.reshape(-1, 1))"
   ]
  },
  {
   "cell_type": "code",
   "execution_count": 11,
   "id": "a5f11dc1",
   "metadata": {},
   "outputs": [],
   "source": [
    "# Prediction for historical dates. Let's call it learned values.\n",
    "y_learned = regression_model.predict(X_transform)"
   ]
  },
  {
   "cell_type": "code",
   "execution_count": 12,
   "id": "234891bf",
   "metadata": {},
   "outputs": [],
   "source": [
    "#Now, add future dates to the date index and pass that index to \n",
    "#the regression model for future prediction.\n",
    "#As we have converted date index into a range index, hence, here we \n",
    "#just need to add 3650 days ( roughly 10 yrs)\n",
    "#to the previous index. x[-1] gives the last value of the series.\n",
    "newindex = np.asarray(pd.RangeIndex(start=x[-1], stop=x[-1] + 3650))"
   ]
  },
  {
   "cell_type": "code",
   "execution_count": 13,
   "id": "cfc2ef0f",
   "metadata": {},
   "outputs": [],
   "source": [
    "#Convert the extended dimension x in the higher degree polynomial expression\n",
    "X_extended_transform = poly.fit_transform(newindex.reshape(-1, 1))"
   ]
  },
  {
   "cell_type": "code",
   "execution_count": 14,
   "id": "5092d071",
   "metadata": {},
   "outputs": [],
   "source": [
    "#Prediction for future dates. Let's call it predicted values.\n",
    "y_predict = regression_model.predict(X_extended_transform)"
   ]
  },
  {
   "cell_type": "code",
   "execution_count": 15,
   "id": "af1b79ec",
   "metadata": {},
   "outputs": [
    {
     "name": "stdout",
     "output_type": "stream",
     "text": [
      "Closing price at 2029 would be around  [219302.32865956]\n"
     ]
    }
   ],
   "source": [
    "#Print the last predicted value\n",
    "print (\"Closing price at 2029 would be around \", y_predict[-1])"
   ]
  },
  {
   "cell_type": "code",
   "execution_count": 16,
   "id": "544f24e9",
   "metadata": {},
   "outputs": [],
   "source": [
    "#Convert the days index back to dates index for plotting the graph\n",
    "x = pd.to_datetime(data.index, origin='1970-01-01', unit='D')\n",
    "future_x = pd.to_datetime(newindex, origin='1970-01-01', unit='D')"
   ]
  },
  {
   "cell_type": "code",
   "execution_count": 17,
   "id": "fcc54ebf",
   "metadata": {},
   "outputs": [
    {
     "name": "stdout",
     "output_type": "stream",
     "text": [
      "Your investments will have a CAGR of  [14.31007581] %\n"
     ]
    }
   ],
   "source": [
    "#Print CAGR for next ten years.\n",
    "print ('Your investments will have a CAGR of ',(CAGR(y[-1], y_predict[-1], 10)), '%')"
   ]
  },
  {
   "cell_type": "code",
   "execution_count": 18,
   "id": "cd51fae0",
   "metadata": {},
   "outputs": [],
   "source": [
    "#Setting figure size\n",
    "from matplotlib.pylab import rcParams\n",
    "rcParams['figure.figsize'] = 20,10"
   ]
  },
  {
   "cell_type": "code",
   "execution_count": 19,
   "id": "bcfcb039",
   "metadata": {},
   "outputs": [
    {
     "data": {
      "text/plain": [
       "[<matplotlib.lines.Line2D at 0x16fbc6f0100>]"
      ]
     },
     "execution_count": 19,
     "metadata": {},
     "output_type": "execute_result"
    }
   ],
   "source": [
    "#Plot the actual data\n",
    "plt.figure(figsize=(16,8))\n",
    "plt.plot(x,data['Close'], label='Close Price History')"
   ]
  },
  {
   "cell_type": "code",
   "execution_count": 20,
   "id": "86556827",
   "metadata": {},
   "outputs": [
    {
     "data": {
      "text/plain": [
       "[<matplotlib.lines.Line2D at 0x16fbedc83a0>]"
      ]
     },
     "execution_count": 20,
     "metadata": {},
     "output_type": "execute_result"
    }
   ],
   "source": [
    "#Plot the regression model\n",
    "plt.plot(x,y_learned, color='r', label='Mathematical Model')"
   ]
  },
  {
   "cell_type": "code",
   "execution_count": 21,
   "id": "b9f15d42",
   "metadata": {},
   "outputs": [
    {
     "data": {
      "text/plain": [
       "[<matplotlib.lines.Line2D at 0x16fbeddb3d0>]"
      ]
     },
     "execution_count": 21,
     "metadata": {},
     "output_type": "execute_result"
    }
   ],
   "source": [
    "#Plot the future predictions\n",
    "plt.plot(future_x,y_predict, color='g', label='Future Predictions')"
   ]
  },
  {
   "cell_type": "code",
   "execution_count": 22,
   "id": "3d9f360a",
   "metadata": {},
   "outputs": [
    {
     "data": {
      "text/plain": [
       "Text(0.5, 0.98, 'Stock Market Predictions')"
      ]
     },
     "execution_count": 22,
     "metadata": {},
     "output_type": "execute_result"
    }
   ],
   "source": [
    "#Set the title of the graph\n",
    "plt.suptitle('Stock Market Predictions', fontsize=16)"
   ]
  },
  {
   "cell_type": "code",
   "execution_count": 23,
   "id": "f9fe589b",
   "metadata": {},
   "outputs": [],
   "source": [
    "#Set the title of the graph window\n",
    "fig = plt.gcf()\n",
    "fig.canvas.manager.set_window_title('Stock Market Predictions')"
   ]
  },
  {
   "cell_type": "code",
   "execution_count": 24,
   "id": "f4533dbd",
   "metadata": {},
   "outputs": [
    {
     "data": {
      "text/plain": [
       "<matplotlib.legend.Legend at 0x16fbf314280>"
      ]
     },
     "execution_count": 24,
     "metadata": {},
     "output_type": "execute_result"
    }
   ],
   "source": [
    "#display the legends\n",
    "plt.legend()"
   ]
  },
  {
   "cell_type": "code",
   "execution_count": 25,
   "id": "8d128f2e",
   "metadata": {},
   "outputs": [],
   "source": [
    "plt.show()"
   ]
  }
 ],
 "metadata": {
  "kernelspec": {
   "display_name": "Python 3.9.7 ('base')",
   "language": "python",
   "name": "python3"
  },
  "language_info": {
   "codemirror_mode": {
    "name": "ipython",
    "version": 3
   },
   "file_extension": ".py",
   "mimetype": "text/x-python",
   "name": "python",
   "nbconvert_exporter": "python",
   "pygments_lexer": "ipython3",
   "version": "3.9.7"
  },
  "vscode": {
   "interpreter": {
    "hash": "ad2bdc8ecc057115af97d19610ffacc2b4e99fae6737bb82f5d7fb13d2f2c186"
   }
  }
 },
 "nbformat": 4,
 "nbformat_minor": 5
}
