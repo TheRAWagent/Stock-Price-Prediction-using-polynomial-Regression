{
 "cells": [
  {
   "cell_type": "code",
   "execution_count": null,
   "id": "b342e633",
   "metadata": {},
   "outputs": [],
   "source": [
    "#import packages\n",
    "import numpy as np\n",
    "import pandas as pd\n",
    "import matplotlib.pyplot as plt\n",
    "\n",
    "from sklearn.linear_model import LinearRegression\n",
    "from sklearn.preprocessing import PolynomialFeatures\n",
    "\n",
    "#plot the graph inside the notebook window\n",
    "%matplotlib qt"
   ]
  },
  {
   "cell_type": "code",
   "execution_count": null,
   "id": "81bb8613",
   "metadata": {},
   "outputs": [],
   "source": [
    "#function to calculate compound annual growth rate\n",
    "def CAGR(first, last, periods):\n",
    "    return ((last/first)**(1/periods)-1) * 100"
   ]
  },
  {
   "cell_type": "code",
   "execution_count": null,
   "id": "aebaf9db",
   "metadata": {},
   "outputs": [],
   "source": [
    "#Reading data from the dataset\n",
    "data = pd.read_csv('Dataset/BSE_SENSEX_DATA.csv')\n",
    "data.head()"
   ]
  },
  {
   "cell_type": "code",
   "execution_count": null,
   "id": "e6c720a0",
   "metadata": {},
   "outputs": [],
   "source": [
    "#Setting index as date\n",
    "data['Date'] = pd.to_datetime(data.Date)\n",
    "data.index = data['Date']\n",
    "data.head()"
   ]
  },
  {
   "cell_type": "code",
   "execution_count": null,
   "id": "5ea846f3",
   "metadata": {},
   "outputs": [],
   "source": [
    "#Converting dates into number of days as dates cannot be passed directly \n",
    "#to any regression model\n",
    "data.index = (data.index - pd.to_datetime('1970-01-01')).days"
   ]
  },
  {
   "cell_type": "code",
   "execution_count": null,
   "id": "90b77596",
   "metadata": {},
   "outputs": [],
   "source": [
    "#Convert the pandas series into numpy array, we need to further \n",
    "#massage it before sending it to regression model\n",
    "y = np.asarray(data['Close'])\n",
    "x = np.asarray(data.index.values)"
   ]
  },
  {
   "cell_type": "code",
   "execution_count": null,
   "id": "7bb5d959",
   "metadata": {},
   "outputs": [],
   "source": [
    "#Model initialization\n",
    "#by default the degree of the equation is 1.\n",
    "#Hence the mathematical model equation is y = mx + c, \n",
    "#which is an equation of a line.\n",
    "regression_model = LinearRegression()"
   ]
  },
  {
   "cell_type": "code",
   "execution_count": null,
   "id": "a6d39f9a",
   "metadata": {},
   "outputs": [],
   "source": [
    "#Choose the order of your polynomial. Here the degree is set to 5.\n",
    "#hence the mathematical model equation is \n",
    "#y = c0 + c1.x**1 + c2.x**2+....+ c5.x**5\n",
    "poly = PolynomialFeatures(5)"
   ]
  },
  {
   "cell_type": "code",
   "execution_count": null,
   "id": "59d6ee36",
   "metadata": {},
   "outputs": [],
   "source": [
    "#Convert dimension x in the higher degree polynomial expression\n",
    "X_transform = poly.fit_transform(x.reshape(-1, 1))"
   ]
  },
  {
   "cell_type": "code",
   "execution_count": null,
   "id": "2f573e70",
   "metadata": {},
   "outputs": [],
   "source": [
    "#Fit the data(train the model)\n",
    "regression_model.fit(X_transform, y.reshape(-1, 1))"
   ]
  },
  {
   "cell_type": "code",
   "execution_count": null,
   "id": "a5f11dc1",
   "metadata": {},
   "outputs": [],
   "source": [
    "# Prediction for historical dates. Let's call it learned values.\n",
    "y_learned = regression_model.predict(X_transform)"
   ]
  },
  {
   "cell_type": "code",
   "execution_count": null,
   "id": "234891bf",
   "metadata": {},
   "outputs": [],
   "source": [
    "#Now, add future dates to the date index and pass that index to \n",
    "#the regression model for future prediction.\n",
    "#As we have converted date index into a range index, hence, here we \n",
    "#just need to add 3650 days ( roughly 10 yrs)\n",
    "#to the previous index. x[-1] gives the last value of the series.\n",
    "newindex = np.asarray(pd.RangeIndex(start=x[-1], stop=x[-1] + 3650))"
   ]
  },
  {
   "cell_type": "code",
   "execution_count": null,
   "id": "cfc2ef0f",
   "metadata": {},
   "outputs": [],
   "source": [
    "#Convert the extended dimension x in the higher degree polynomial expression\n",
    "X_extended_transform = poly.fit_transform(newindex.reshape(-1, 1))"
   ]
  },
  {
   "cell_type": "code",
   "execution_count": null,
   "id": "5092d071",
   "metadata": {},
   "outputs": [],
   "source": [
    "#Prediction for future dates. Let's call it predicted values.\n",
    "y_predict = regression_model.predict(X_extended_transform)"
   ]
  },
  {
   "cell_type": "code",
   "execution_count": null,
   "id": "af1b79ec",
   "metadata": {},
   "outputs": [],
   "source": [
    "#Print the last predicted value\n",
    "print (\"Closing price at 2029 would be around \", y_predict[-1])"
   ]
  },
  {
   "cell_type": "code",
   "execution_count": null,
   "id": "544f24e9",
   "metadata": {},
   "outputs": [],
   "source": [
    "#Convert the days index back to dates index for plotting the graph\n",
    "x = pd.to_datetime(data.index, origin='1970-01-01', unit='D')\n",
    "future_x = pd.to_datetime(newindex, origin='1970-01-01', unit='D')"
   ]
  },
  {
   "cell_type": "code",
   "execution_count": null,
   "id": "fcc54ebf",
   "metadata": {},
   "outputs": [],
   "source": [
    "#Print CAGR for next ten years.\n",
    "print ('Your investments will have a CAGR of ',(CAGR(y[-1], y_predict[-1], 10)), '%')"
   ]
  },
  {
   "cell_type": "code",
   "execution_count": null,
   "id": "cd51fae0",
   "metadata": {},
   "outputs": [],
   "source": [
    "#Setting figure size\n",
    "from matplotlib.pylab import rcParams\n",
    "rcParams['figure.figsize'] = 20,10"
   ]
  },
  {
   "cell_type": "code",
   "execution_count": null,
   "id": "bcfcb039",
   "metadata": {},
   "outputs": [],
   "source": [
    "#Plot the actual data\n",
    "plt.figure(figsize=(16,8))\n",
    "plt.plot(x,data['Close'], label='Close Price History')"
   ]
  },
  {
   "cell_type": "code",
   "execution_count": null,
   "id": "86556827",
   "metadata": {},
   "outputs": [],
   "source": [
    "#Plot the regression model\n",
    "plt.plot(x,y_learned, color='r', label='Mathematical Model')"
   ]
  },
  {
   "cell_type": "code",
   "execution_count": null,
   "id": "b9f15d42",
   "metadata": {},
   "outputs": [],
   "source": [
    "#Plot the future predictions\n",
    "plt.plot(future_x,y_predict, color='g', label='Future Predictions')"
   ]
  },
  {
   "cell_type": "code",
   "execution_count": null,
   "id": "3d9f360a",
   "metadata": {},
   "outputs": [],
   "source": [
    "#Set the title of the graph\n",
    "plt.suptitle('Stock Market Predictions', fontsize=16)"
   ]
  },
  {
   "cell_type": "code",
   "execution_count": null,
   "id": "f9fe589b",
   "metadata": {},
   "outputs": [],
   "source": [
    "#Set the title of the graph window\n",
    "fig = plt.gcf()\n",
    "fig.canvas.manager.set_window_title('Stock Market Predictions')"
   ]
  },
  {
   "cell_type": "code",
   "execution_count": null,
   "id": "f4533dbd",
   "metadata": {},
   "outputs": [],
   "source": [
    "#display the legends\n",
    "plt.legend()"
   ]
  },
  {
   "cell_type": "code",
   "execution_count": null,
   "id": "8d128f2e",
   "metadata": {},
   "outputs": [],
   "source": [
    "plt.show()"
   ]
  }
 ],
 "metadata": {
  "kernelspec": {
   "display_name": "Python 3.9.7 ('base')",
   "language": "python",
   "name": "python3"
  },
  "language_info": {
   "codemirror_mode": {
    "name": "ipython",
    "version": 3
   },
   "file_extension": ".py",
   "mimetype": "text/x-python",
   "name": "python",
   "nbconvert_exporter": "python",
   "pygments_lexer": "ipython3",
   "version": "3.9.7"
  },
  "vscode": {
   "interpreter": {
    "hash": "ad2bdc8ecc057115af97d19610ffacc2b4e99fae6737bb82f5d7fb13d2f2c186"
   }
  }
 },
 "nbformat": 4,
 "nbformat_minor": 5
}
